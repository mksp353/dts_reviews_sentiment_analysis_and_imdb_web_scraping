{
 "cells": [
  {
   "cell_type": "markdown",
   "metadata": {},
   "source": [
    "Web scraping drive to survive reviews and converting them into a csv file "
   ]
  },
  {
   "cell_type": "code",
   "execution_count": 56,
   "metadata": {},
   "outputs": [],
   "source": [
    "#imports \n",
    "import pandas as pd\n",
    "from bs4 import BeautifulSoup\n",
    "import time\n",
    "from selenium import webdriver\n",
    "from selenium.webdriver.common.by import By\n",
    "from selenium.webdriver.chrome.service import Service as ChromeService\n",
    "from webdriver_manager.chrome import ChromeDriverManager"
   ]
  },
  {
   "cell_type": "code",
   "execution_count": 57,
   "metadata": {},
   "outputs": [],
   "source": [
    "url='https://www.imdb.com/title/tt8289930/reviews/'\n",
    "driver = webdriver.Chrome(service=ChromeService(ChromeDriverManager().install()))\n",
    "driver.get(url)\n",
    "time.sleep(5)#waiting for the page to load"
   ]
  },
  {
   "cell_type": "code",
   "execution_count": 58,
   "metadata": {},
   "outputs": [],
   "source": [
    "for i in range(0,10):\n",
    "    try:\n",
    "        load_more_btn=driver.find_element(By.ID,\"load-more-trigger\")\n",
    "        load_more_btn.click()\n",
    "        time.sleep(2)\n",
    "       # print(\"clicked button\")\n",
    "    except Exception as e:\n",
    "        print(f\"cannot click button \\n {e}\")\n",
    "page_source=driver.page_source\n",
    "driver.quit()\n",
    "#page_source"
   ]
  },
  {
   "cell_type": "code",
   "execution_count": 59,
   "metadata": {},
   "outputs": [],
   "source": [
    "page_content=BeautifulSoup(page_source,'html.parser')\n",
    "review=page_content.findAll(\"div\",attrs={\"class\": \"text show-more__control\"})\n",
    "review_title=page_content.findAll(\"a\",attrs={\"class\": \"title\"})\n",
    "review_rating=page_content.findAll(\"span\",attrs={\"class\": \"rating-other-user-rating\"})\n",
    "#print(review_rating)\n",
    "#extracting the rating\n",
    "ratings=[]\n",
    "for span in review_rating:\n",
    "    rating=span.find('span').get_text()\n",
    "    ratings.append(rating)\n",
    "#print(ratings)"
   ]
  },
  {
   "cell_type": "code",
   "execution_count": 60,
   "metadata": {},
   "outputs": [],
   "source": [
    "# Lists to hold the extracted data\n",
    "title_col = []\n",
    "review_col = []\n",
    "rating_col = []\n",
    "\n",
    "for review, title, rating in zip(review, review_title, ratings):\n",
    "    review_col.append(review.get_text().strip())\n",
    "    title_col.append(title.get_text().strip())\n",
    "    rating_col.append(rating.strip())\n",
    "\n",
    "data = {\n",
    "    'Title': title_col,\n",
    "    'Review': review_col,\n",
    "    'Rating': rating_col\n",
    "}\n"
   ]
  },
  {
   "cell_type": "code",
   "execution_count": 61,
   "metadata": {},
   "outputs": [
    {
     "name": "stdout",
     "output_type": "stream",
     "text": [
      "223\n"
     ]
    }
   ],
   "source": [
    "dts_df=pd.DataFrame(data)\n",
    "print(len(dts_df))\n",
    "dts_df.to_csv(\"dts_review.csv\",index=False)"
   ]
  }
 ],
 "metadata": {
  "kernelspec": {
   "display_name": "Python 3",
   "language": "python",
   "name": "python3"
  },
  "language_info": {
   "codemirror_mode": {
    "name": "ipython",
    "version": 3
   },
   "file_extension": ".py",
   "mimetype": "text/x-python",
   "name": "python",
   "nbconvert_exporter": "python",
   "pygments_lexer": "ipython3",
   "version": "3.11.4"
  }
 },
 "nbformat": 4,
 "nbformat_minor": 2
}
